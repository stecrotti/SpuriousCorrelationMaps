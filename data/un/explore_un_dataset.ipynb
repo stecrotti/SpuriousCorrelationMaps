{
 "cells": [
  {
   "cell_type": "code",
   "execution_count": 1,
   "id": "35f275d7",
   "metadata": {},
   "outputs": [],
   "source": [
    "import os\n",
    "import urllib.request\n",
    "import pandas as pd\n",
    "from functools import reduce\n",
    "\n",
    "import ipywidgets as widgets\n",
    "\n",
    "from utils import *"
   ]
  },
  {
   "cell_type": "code",
   "execution_count": 2,
   "id": "869f83ef",
   "metadata": {},
   "outputs": [
    {
     "data": {
      "application/vnd.jupyter.widget-view+json": {
       "model_id": "4876a63352f74545b61ae2f1b505327c",
       "version_major": 2,
       "version_minor": 0
      },
      "text/plain": [
       "Text(value='', description='URL:', placeholder='')"
      ]
     },
     "metadata": {},
     "output_type": "display_data"
    }
   ],
   "source": [
    "url_widget = widgets.Text(\n",
    "    value='',\n",
    "    placeholder='',\n",
    "    description='URL:',\n",
    "    disabled=False   \n",
    ")\n",
    "display(url_widget)"
   ]
  },
  {
   "cell_type": "code",
   "execution_count": 27,
   "id": "762eb5c2",
   "metadata": {},
   "outputs": [],
   "source": [
    "url = url_widget.value\n",
    "filedir = os.getcwd()\n",
    "urllib.request.urlretrieve(url, filedir + '/tmp_data.csv');"
   ]
  },
  {
   "cell_type": "code",
   "execution_count": 28,
   "id": "d6dc9347",
   "metadata": {},
   "outputs": [
    {
     "name": "stdout",
     "output_type": "stream",
     "text": [
      "Net official development assistance received: Bilateral  (millions of US dollars) -> Not enough data\n",
      "Net official development assistance received: Multilateral (millions of US dollars) -> Not enough data\n",
      "Net official development assistance received: Total (millions of US dollars) -> Not enough data\n",
      "Net official development assistance received: Total (as % GNI) -> Not enough data\n"
     ]
    }
   ],
   "source": [
    "df_in = prepare_un_dataset(filedir, url)\n",
    "features = df_in['Series'].unique()\n",
    "\n",
    "dfs_in = []\n",
    "\n",
    "for feature in features:\n",
    "    candidate_df = make_feature_dataset(df_in, feature)\n",
    "    if candidate_df is None:\n",
    "        print(feature, '-> Not enough data')\n",
    "    else:\n",
    "        print(feature, '-> OK')"
   ]
  },
  {
   "cell_type": "code",
   "execution_count": 14,
   "id": "d4a505bf",
   "metadata": {},
   "outputs": [],
   "source": [
    "names_transforms_array = [\n",
    "    ['Agricultural production (Index Base: 2014-2016 = 100)', None, percentage_str_to_prop_float],\n",
    "    # ['Students enrolled in lower secondary education (thousands)', 'Students enrolled in lower secondary education', str_mult_times_thousand],\n",
    "    # ['Students enrolled in upper secondary education (thousands)', 'Students enrolled in upper secondary education', str_mult_times_thousand],\n",
    "]\n",
    "\n",
    "names_transforms = make_names_transforms_df(names_transforms_array)"
   ]
  },
  {
   "cell_type": "code",
   "execution_count": 48,
   "id": "f02ba9f7",
   "metadata": {},
   "outputs": [],
   "source": [
    "new_dfs = dataset_from_names_and_transforms(df_in, names_transforms)"
   ]
  },
  {
   "cell_type": "code",
   "execution_count": 49,
   "id": "2c5d5520",
   "metadata": {},
   "outputs": [
    {
     "data": {
      "text/html": [
       "<div>\n",
       "<style scoped>\n",
       "    .dataframe tbody tr th:only-of-type {\n",
       "        vertical-align: middle;\n",
       "    }\n",
       "\n",
       "    .dataframe tbody tr th {\n",
       "        vertical-align: top;\n",
       "    }\n",
       "\n",
       "    .dataframe thead th {\n",
       "        text-align: right;\n",
       "    }\n",
       "</style>\n",
       "<table border=\"1\" class=\"dataframe\">\n",
       "  <thead>\n",
       "    <tr style=\"text-align: right;\">\n",
       "      <th></th>\n",
       "      <th>Country</th>\n",
       "      <th>Agricultural production (Index Base: 2014-2016 = 100)</th>\n",
       "    </tr>\n",
       "  </thead>\n",
       "  <tbody>\n",
       "    <tr>\n",
       "      <th>0</th>\n",
       "      <td>Afghanistan</td>\n",
       "      <td>1.114</td>\n",
       "    </tr>\n",
       "    <tr>\n",
       "      <th>1</th>\n",
       "      <td>Albania</td>\n",
       "      <td>1.052</td>\n",
       "    </tr>\n",
       "    <tr>\n",
       "      <th>2</th>\n",
       "      <td>Algeria</td>\n",
       "      <td>1.110</td>\n",
       "    </tr>\n",
       "    <tr>\n",
       "      <th>3</th>\n",
       "      <td>Angola</td>\n",
       "      <td>1.239</td>\n",
       "    </tr>\n",
       "    <tr>\n",
       "      <th>4</th>\n",
       "      <td>Antigua and Barbuda</td>\n",
       "      <td>0.901</td>\n",
       "    </tr>\n",
       "  </tbody>\n",
       "</table>\n",
       "</div>"
      ],
      "text/plain": [
       "               Country  Agricultural production (Index Base: 2014-2016 = 100)\n",
       "0          Afghanistan                                              1.114    \n",
       "1              Albania                                              1.052    \n",
       "2              Algeria                                              1.110    \n",
       "3               Angola                                              1.239    \n",
       "4  Antigua and Barbuda                                              0.901    "
      ]
     },
     "execution_count": 49,
     "metadata": {},
     "output_type": "execute_result"
    }
   ],
   "source": [
    "df = reduce(lambda  left,right: pd.merge(left,right,on=['Country'], how='outer'), new_dfs)\n",
    "df.head()"
   ]
  },
  {
   "cell_type": "code",
   "execution_count": 17,
   "id": "0d97ddae",
   "metadata": {},
   "outputs": [],
   "source": [
    "os.remove(filedir + '/tmp_data.csv')"
   ]
  }
 ],
 "metadata": {
  "kernelspec": {
   "display_name": "Python 3",
   "language": "python",
   "name": "python3"
  },
  "language_info": {
   "codemirror_mode": {
    "name": "ipython",
    "version": 3
   },
   "file_extension": ".py",
   "mimetype": "text/x-python",
   "name": "python",
   "nbconvert_exporter": "python",
   "pygments_lexer": "ipython3",
   "version": "3.13.3"
  }
 },
 "nbformat": 4,
 "nbformat_minor": 5
}
