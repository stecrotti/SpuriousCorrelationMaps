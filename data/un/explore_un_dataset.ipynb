{
 "cells": [
  {
   "cell_type": "code",
   "execution_count": 18,
   "id": "35f275d7",
   "metadata": {},
   "outputs": [],
   "source": [
    "import os\n",
    "import urllib.request\n",
    "import pandas as pd\n",
    "from functools import reduce\n",
    "\n",
    "from utils import *"
   ]
  },
  {
   "cell_type": "code",
   "execution_count": 19,
   "id": "382f0ceb",
   "metadata": {},
   "outputs": [],
   "source": [
    "url = \"https://data.un.org/_Docs/SYB/CSV/SYB67_230_202411_GDP%20and%20GDP%20Per%20Capita.csv\""
   ]
  },
  {
   "cell_type": "code",
   "execution_count": 20,
   "id": "bfdcd6a9",
   "metadata": {},
   "outputs": [],
   "source": [
    "filedir = os.getcwd()\n",
    "urllib.request.urlretrieve(url, filedir + '/tmp_data.csv');"
   ]
  },
  {
   "cell_type": "code",
   "execution_count": 21,
   "id": "871dfd41",
   "metadata": {},
   "outputs": [
    {
     "name": "stdout",
     "output_type": "stream",
     "text": [
      "['GDP in current prices (millions of US dollars)'\n",
      " 'GDP per capita (US dollars)'\n",
      " 'GDP in constant 2015 prices (millions of US dollars)'\n",
      " 'GDP real rates of growth (percent)']\n"
     ]
    }
   ],
   "source": [
    "df_in = prepare_un_dataset(filedir, url)\n",
    "features = df_in['Series'].unique()\n",
    "print(features)"
   ]
  },
  {
   "cell_type": "code",
   "execution_count": 31,
   "id": "d4a505bf",
   "metadata": {},
   "outputs": [],
   "source": [
    "names_transforms_array = [\n",
    "    ['GDP in current prices (millions of US dollars)', 'GDP (millions of US dollars)', string_with_commas_to_float],\n",
    "    ['GDP per capita (US dollars)', None, string_with_commas_to_float],\n",
    "    ['GDP real rates of growth (percent)', 'GDP real rates of growth', percentage_str_to_prop_float],\n",
    "]\n",
    "\n",
    "names_transforms = make_names_transforms_df(names_transforms_array)"
   ]
  },
  {
   "cell_type": "code",
   "execution_count": 32,
   "id": "f02ba9f7",
   "metadata": {},
   "outputs": [],
   "source": [
    "new_dfs = dataset_from_names_and_transforms(df_in, names_transforms)"
   ]
  },
  {
   "cell_type": "code",
   "execution_count": 33,
   "id": "2c5d5520",
   "metadata": {},
   "outputs": [
    {
     "data": {
      "text/html": [
       "<div>\n",
       "<style scoped>\n",
       "    .dataframe tbody tr th:only-of-type {\n",
       "        vertical-align: middle;\n",
       "    }\n",
       "\n",
       "    .dataframe tbody tr th {\n",
       "        vertical-align: top;\n",
       "    }\n",
       "\n",
       "    .dataframe thead th {\n",
       "        text-align: right;\n",
       "    }\n",
       "</style>\n",
       "<table border=\"1\" class=\"dataframe\">\n",
       "  <thead>\n",
       "    <tr style=\"text-align: right;\">\n",
       "      <th></th>\n",
       "      <th>Country</th>\n",
       "      <th>GDP (millions of US dollars)</th>\n",
       "      <th>GDP per capita (US dollars)</th>\n",
       "      <th>GDP real rates of growth</th>\n",
       "    </tr>\n",
       "  </thead>\n",
       "  <tbody>\n",
       "    <tr>\n",
       "      <th>0</th>\n",
       "      <td>Afghanistan</td>\n",
       "      <td>15145.0</td>\n",
       "      <td>537.0</td>\n",
       "      <td>0.025</td>\n",
       "    </tr>\n",
       "    <tr>\n",
       "      <th>1</th>\n",
       "      <td>Albania</td>\n",
       "      <td>11927.0</td>\n",
       "      <td>4094.0</td>\n",
       "      <td>0.037</td>\n",
       "    </tr>\n",
       "    <tr>\n",
       "      <th>2</th>\n",
       "      <td>Algeria</td>\n",
       "      <td>161207.0</td>\n",
       "      <td>4496.0</td>\n",
       "      <td>0.036</td>\n",
       "    </tr>\n",
       "    <tr>\n",
       "      <th>3</th>\n",
       "      <td>Andorra</td>\n",
       "      <td>3447.0</td>\n",
       "      <td>48191.0</td>\n",
       "      <td>-0.020</td>\n",
       "    </tr>\n",
       "    <tr>\n",
       "      <th>4</th>\n",
       "      <td>Angola</td>\n",
       "      <td>83799.0</td>\n",
       "      <td>3587.0</td>\n",
       "      <td>0.049</td>\n",
       "    </tr>\n",
       "  </tbody>\n",
       "</table>\n",
       "</div>"
      ],
      "text/plain": [
       "       Country  GDP (millions of US dollars)  GDP per capita (US dollars)  \\\n",
       "0  Afghanistan                       15145.0                        537.0   \n",
       "1      Albania                       11927.0                       4094.0   \n",
       "2      Algeria                      161207.0                       4496.0   \n",
       "3      Andorra                        3447.0                      48191.0   \n",
       "4       Angola                       83799.0                       3587.0   \n",
       "\n",
       "   GDP real rates of growth  \n",
       "0                     0.025  \n",
       "1                     0.037  \n",
       "2                     0.036  \n",
       "3                    -0.020  \n",
       "4                     0.049  "
      ]
     },
     "execution_count": 33,
     "metadata": {},
     "output_type": "execute_result"
    }
   ],
   "source": [
    "df = reduce(lambda  left,right: pd.merge(left,right,on=['Country'], how='outer'), new_dfs)\n",
    "df.head()"
   ]
  },
  {
   "cell_type": "code",
   "execution_count": 17,
   "id": "0d97ddae",
   "metadata": {},
   "outputs": [],
   "source": [
    "os.remove(filedir + '/tmp_data.csv')"
   ]
  }
 ],
 "metadata": {
  "kernelspec": {
   "display_name": "Python 3",
   "language": "python",
   "name": "python3"
  },
  "language_info": {
   "codemirror_mode": {
    "name": "ipython",
    "version": 3
   },
   "file_extension": ".py",
   "mimetype": "text/x-python",
   "name": "python",
   "nbconvert_exporter": "python",
   "pygments_lexer": "ipython3",
   "version": "3.13.3"
  }
 },
 "nbformat": 4,
 "nbformat_minor": 5
}
