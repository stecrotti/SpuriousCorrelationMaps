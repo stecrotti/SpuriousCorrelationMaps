{
 "cells": [
  {
   "cell_type": "code",
   "execution_count": 14,
   "id": "35f275d7",
   "metadata": {},
   "outputs": [],
   "source": [
    "import os\n",
    "import urllib.request\n",
    "import pandas as pd\n",
    "from functools import reduce\n",
    "\n",
    "from utils import *"
   ]
  },
  {
   "cell_type": "code",
   "execution_count": 3,
   "id": "382f0ceb",
   "metadata": {},
   "outputs": [],
   "source": [
    "url = \"https://data.un.org/_Docs/SYB/CSV/SYB61_253_Population%20Growth%20Rates%20in%20Urban%20areas%20and%20Capital%20cities.csv\""
   ]
  },
  {
   "cell_type": "code",
   "execution_count": 4,
   "id": "bfdcd6a9",
   "metadata": {},
   "outputs": [],
   "source": [
    "filedir = os.getcwd()\n",
    "urllib.request.urlretrieve(url, filedir + '/tmp_data.csv');"
   ]
  },
  {
   "cell_type": "code",
   "execution_count": 8,
   "id": "871dfd41",
   "metadata": {},
   "outputs": [
    {
     "name": "stdout",
     "output_type": "stream",
     "text": [
      "['Urban population (percent)'\n",
      " 'Urban population (percent growth rate per annum)'\n",
      " 'Rural population (percent growth rate per annum)'\n",
      " 'Capital city population (thousands)'\n",
      " 'Capital city population (as a percentage of total population)'\n",
      " 'Capital city population (as a percentage of total urban population)']\n"
     ]
    }
   ],
   "source": [
    "df_in = prepare_un_dataset(filedir, url)\n",
    "features = df_in['Series'].unique()\n",
    "print(features)"
   ]
  },
  {
   "cell_type": "code",
   "execution_count": 11,
   "id": "d4a505bf",
   "metadata": {},
   "outputs": [],
   "source": [
    "names_transforms_array = [\n",
    "    ['Urban population (percent)', 'Urban population (proportion)', string_with_commas_to_float],\n",
    "    ['Urban population (percent growth rate per annum)', 'Urban population (growth rate per annum)', percentage_str_to_prop_float],\n",
    "    ['Rural population (percent growth rate per annum)', 'Rural population (growth rate per annum)', percentage_str_to_prop_float],\n",
    "    # ['Capital city population (as a percentage of total population)', 'Capital city population (proportion)', percentage_str_to_prop_float],\n",
    "]\n",
    "\n",
    "names_transforms = make_names_transforms_df(names_transforms_array)"
   ]
  },
  {
   "cell_type": "code",
   "execution_count": 12,
   "id": "f02ba9f7",
   "metadata": {},
   "outputs": [],
   "source": [
    "new_dfs = dataset_from_names_and_transforms(df_in, names_transforms)"
   ]
  },
  {
   "cell_type": "code",
   "execution_count": 16,
   "id": "2c5d5520",
   "metadata": {},
   "outputs": [
    {
     "data": {
      "text/html": [
       "<div>\n",
       "<style scoped>\n",
       "    .dataframe tbody tr th:only-of-type {\n",
       "        vertical-align: middle;\n",
       "    }\n",
       "\n",
       "    .dataframe tbody tr th {\n",
       "        vertical-align: top;\n",
       "    }\n",
       "\n",
       "    .dataframe thead th {\n",
       "        text-align: right;\n",
       "    }\n",
       "</style>\n",
       "<table border=\"1\" class=\"dataframe\">\n",
       "  <thead>\n",
       "    <tr style=\"text-align: right;\">\n",
       "      <th></th>\n",
       "      <th>Country</th>\n",
       "      <th>Urban population (proportion)</th>\n",
       "      <th>Urban population (growth rate per annum)</th>\n",
       "      <th>Rural population (growth rate per annum)</th>\n",
       "    </tr>\n",
       "  </thead>\n",
       "  <tbody>\n",
       "    <tr>\n",
       "      <th>0</th>\n",
       "      <td>Afghanistan</td>\n",
       "      <td>25.5</td>\n",
       "      <td>0.040</td>\n",
       "      <td>0.029</td>\n",
       "    </tr>\n",
       "    <tr>\n",
       "      <th>1</th>\n",
       "      <td>Albania</td>\n",
       "      <td>60.3</td>\n",
       "      <td>0.018</td>\n",
       "      <td>-0.025</td>\n",
       "    </tr>\n",
       "    <tr>\n",
       "      <th>2</th>\n",
       "      <td>Algeria</td>\n",
       "      <td>72.6</td>\n",
       "      <td>0.029</td>\n",
       "      <td>-0.002</td>\n",
       "    </tr>\n",
       "    <tr>\n",
       "      <th>3</th>\n",
       "      <td>American Samoa</td>\n",
       "      <td>87.2</td>\n",
       "      <td>-0.001</td>\n",
       "      <td>0.005</td>\n",
       "    </tr>\n",
       "    <tr>\n",
       "      <th>4</th>\n",
       "      <td>Andorra</td>\n",
       "      <td>88.1</td>\n",
       "      <td>-0.017</td>\n",
       "      <td>-0.008</td>\n",
       "    </tr>\n",
       "  </tbody>\n",
       "</table>\n",
       "</div>"
      ],
      "text/plain": [
       "          Country  Urban population (proportion)  \\\n",
       "0     Afghanistan                           25.5   \n",
       "1         Albania                           60.3   \n",
       "2         Algeria                           72.6   \n",
       "3  American Samoa                           87.2   \n",
       "4         Andorra                           88.1   \n",
       "\n",
       "   Urban population (growth rate per annum)  \\\n",
       "0                                     0.040   \n",
       "1                                     0.018   \n",
       "2                                     0.029   \n",
       "3                                    -0.001   \n",
       "4                                    -0.017   \n",
       "\n",
       "   Rural population (growth rate per annum)  \n",
       "0                                     0.029  \n",
       "1                                    -0.025  \n",
       "2                                    -0.002  \n",
       "3                                     0.005  \n",
       "4                                    -0.008  "
      ]
     },
     "execution_count": 16,
     "metadata": {},
     "output_type": "execute_result"
    }
   ],
   "source": [
    "df = reduce(lambda  left,right: pd.merge(left,right,on=['Country'], how='outer'), new_dfs)\n",
    "df.head()"
   ]
  },
  {
   "cell_type": "code",
   "execution_count": 17,
   "id": "0d97ddae",
   "metadata": {},
   "outputs": [],
   "source": [
    "os.remove(filedir + '/tmp_data.csv')"
   ]
  }
 ],
 "metadata": {
  "kernelspec": {
   "display_name": "Python 3",
   "language": "python",
   "name": "python3"
  },
  "language_info": {
   "codemirror_mode": {
    "name": "ipython",
    "version": 3
   },
   "file_extension": ".py",
   "mimetype": "text/x-python",
   "name": "python",
   "nbconvert_exporter": "python",
   "pygments_lexer": "ipython3",
   "version": "3.13.3"
  }
 },
 "nbformat": 4,
 "nbformat_minor": 5
}
